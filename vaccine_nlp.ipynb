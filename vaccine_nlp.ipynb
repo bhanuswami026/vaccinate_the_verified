{
  "nbformat": 4,
  "nbformat_minor": 0,
  "metadata": {
    "colab": {
      "name": "vaccine_nlp.ipynb",
      "provenance": [],
      "mount_file_id": "1kx9WwNgxjWYpikCGOqzWqjN2-9e2DMHp",
      "authorship_tag": "ABX9TyMNOSM6wTKiGwLVOmEQtwxT"
    },
    "kernelspec": {
      "name": "python3",
      "display_name": "Python 3"
    },
    "language_info": {
      "name": "python"
    }
  },
  "cells": [
    {
      "cell_type": "code",
      "metadata": {
        "id": "X4G2S_RZ2Rd_"
      },
      "source": [
        "import pandas as pd\n",
        "import numpy as np\n",
        "import matplotlib.pyplot as plt\n",
        "import seaborn as sns"
      ],
      "execution_count": null,
      "outputs": []
    },
    {
      "cell_type": "code",
      "metadata": {
        "colab": {
          "base_uri": "https://localhost:8080/",
          "height": 321
        },
        "id": "IkVOfPnd2g6r",
        "outputId": "3deaac36-64ac-4509-cc77-d099288d6159"
      },
      "source": [
        "data = pd.read_csv(\"/content/drive/MyDrive/Datasets/vaccination_nlp/vaccination_tweets.csv\")\n",
        "data.head(3)"
      ],
      "execution_count": null,
      "outputs": [
        {
          "output_type": "execute_result",
          "data": {
            "text/html": [
              "<div>\n",
              "<style scoped>\n",
              "    .dataframe tbody tr th:only-of-type {\n",
              "        vertical-align: middle;\n",
              "    }\n",
              "\n",
              "    .dataframe tbody tr th {\n",
              "        vertical-align: top;\n",
              "    }\n",
              "\n",
              "    .dataframe thead th {\n",
              "        text-align: right;\n",
              "    }\n",
              "</style>\n",
              "<table border=\"1\" class=\"dataframe\">\n",
              "  <thead>\n",
              "    <tr style=\"text-align: right;\">\n",
              "      <th></th>\n",
              "      <th>id</th>\n",
              "      <th>user_name</th>\n",
              "      <th>user_location</th>\n",
              "      <th>user_description</th>\n",
              "      <th>user_created</th>\n",
              "      <th>user_followers</th>\n",
              "      <th>user_friends</th>\n",
              "      <th>user_favourites</th>\n",
              "      <th>user_verified</th>\n",
              "      <th>date</th>\n",
              "      <th>text</th>\n",
              "      <th>hashtags</th>\n",
              "      <th>source</th>\n",
              "      <th>retweets</th>\n",
              "      <th>favorites</th>\n",
              "      <th>is_retweet</th>\n",
              "    </tr>\n",
              "  </thead>\n",
              "  <tbody>\n",
              "    <tr>\n",
              "      <th>0</th>\n",
              "      <td>1340539111971516416</td>\n",
              "      <td>Rachel Roh</td>\n",
              "      <td>La Crescenta-Montrose, CA</td>\n",
              "      <td>Aggregator of Asian American news; scanning di...</td>\n",
              "      <td>2009-04-08 17:52:46</td>\n",
              "      <td>405</td>\n",
              "      <td>1692</td>\n",
              "      <td>3247</td>\n",
              "      <td>False</td>\n",
              "      <td>2020-12-20 06:06:44</td>\n",
              "      <td>Same folks said daikon paste could treat a cyt...</td>\n",
              "      <td>['PfizerBioNTech']</td>\n",
              "      <td>Twitter for Android</td>\n",
              "      <td>0</td>\n",
              "      <td>0</td>\n",
              "      <td>False</td>\n",
              "    </tr>\n",
              "    <tr>\n",
              "      <th>1</th>\n",
              "      <td>1338158543359250433</td>\n",
              "      <td>Albert Fong</td>\n",
              "      <td>San Francisco, CA</td>\n",
              "      <td>Marketing dude, tech geek, heavy metal &amp; '80s ...</td>\n",
              "      <td>2009-09-21 15:27:30</td>\n",
              "      <td>834</td>\n",
              "      <td>666</td>\n",
              "      <td>178</td>\n",
              "      <td>False</td>\n",
              "      <td>2020-12-13 16:27:13</td>\n",
              "      <td>While the world has been on the wrong side of ...</td>\n",
              "      <td>NaN</td>\n",
              "      <td>Twitter Web App</td>\n",
              "      <td>1</td>\n",
              "      <td>1</td>\n",
              "      <td>False</td>\n",
              "    </tr>\n",
              "    <tr>\n",
              "      <th>2</th>\n",
              "      <td>1337858199140118533</td>\n",
              "      <td>eli🇱🇹🇪🇺👌</td>\n",
              "      <td>Your Bed</td>\n",
              "      <td>heil, hydra 🖐☺</td>\n",
              "      <td>2020-06-25 23:30:28</td>\n",
              "      <td>10</td>\n",
              "      <td>88</td>\n",
              "      <td>155</td>\n",
              "      <td>False</td>\n",
              "      <td>2020-12-12 20:33:45</td>\n",
              "      <td>#coronavirus #SputnikV #AstraZeneca #PfizerBio...</td>\n",
              "      <td>['coronavirus', 'SputnikV', 'AstraZeneca', 'Pf...</td>\n",
              "      <td>Twitter for Android</td>\n",
              "      <td>0</td>\n",
              "      <td>0</td>\n",
              "      <td>False</td>\n",
              "    </tr>\n",
              "  </tbody>\n",
              "</table>\n",
              "</div>"
            ],
            "text/plain": [
              "                    id    user_name  ... favorites is_retweet\n",
              "0  1340539111971516416   Rachel Roh  ...         0      False\n",
              "1  1338158543359250433  Albert Fong  ...         1      False\n",
              "2  1337858199140118533     eli🇱🇹🇪🇺👌  ...         0      False\n",
              "\n",
              "[3 rows x 16 columns]"
            ]
          },
          "metadata": {},
          "execution_count": 2
        }
      ]
    },
    {
      "cell_type": "code",
      "metadata": {
        "colab": {
          "base_uri": "https://localhost:8080/"
        },
        "id": "hsByA-AQ2q82",
        "outputId": "14e5f91f-901b-44cf-8e19-2c48c920622f"
      },
      "source": [
        "data.info()"
      ],
      "execution_count": null,
      "outputs": [
        {
          "output_type": "stream",
          "name": "stdout",
          "text": [
            "<class 'pandas.core.frame.DataFrame'>\n",
            "RangeIndex: 2518 entries, 0 to 2517\n",
            "Data columns (total 16 columns):\n",
            " #   Column            Non-Null Count  Dtype \n",
            "---  ------            --------------  ----- \n",
            " 0   id                2518 non-null   int64 \n",
            " 1   user_name         2518 non-null   object\n",
            " 2   user_location     1998 non-null   object\n",
            " 3   user_description  2394 non-null   object\n",
            " 4   user_created      2518 non-null   object\n",
            " 5   user_followers    2518 non-null   int64 \n",
            " 6   user_friends      2518 non-null   int64 \n",
            " 7   user_favourites   2518 non-null   int64 \n",
            " 8   user_verified     2518 non-null   bool  \n",
            " 9   date              2518 non-null   object\n",
            " 10  text              2518 non-null   object\n",
            " 11  hashtags          1884 non-null   object\n",
            " 12  source            2517 non-null   object\n",
            " 13  retweets          2518 non-null   int64 \n",
            " 14  favorites         2518 non-null   int64 \n",
            " 15  is_retweet        2518 non-null   bool  \n",
            "dtypes: bool(2), int64(6), object(8)\n",
            "memory usage: 280.4+ KB\n"
          ]
        }
      ]
    },
    {
      "cell_type": "code",
      "metadata": {
        "colab": {
          "base_uri": "https://localhost:8080/"
        },
        "id": "6mzgIaf12y3G",
        "outputId": "bc3b49b4-b9e6-4be4-dd8a-532d5a90082e"
      },
      "source": [
        "columns = []\n",
        "for i in data.columns:\n",
        "  columns.append(i)\n",
        "columns"
      ],
      "execution_count": null,
      "outputs": [
        {
          "output_type": "execute_result",
          "data": {
            "text/plain": [
              "['id',\n",
              " 'user_name',\n",
              " 'user_location',\n",
              " 'user_description',\n",
              " 'user_created',\n",
              " 'user_followers',\n",
              " 'user_friends',\n",
              " 'user_favourites',\n",
              " 'user_verified',\n",
              " 'date',\n",
              " 'text',\n",
              " 'hashtags',\n",
              " 'source',\n",
              " 'retweets',\n",
              " 'favorites',\n",
              " 'is_retweet']"
            ]
          },
          "metadata": {},
          "execution_count": 4
        }
      ]
    },
    {
      "cell_type": "code",
      "metadata": {
        "colab": {
          "base_uri": "https://localhost:8080/"
        },
        "id": "o8Cpx3wq22y8",
        "outputId": "5e4c9d8d-9042-4d20-fbfb-a1e5cae31c74"
      },
      "source": [
        "data.isnull().sum()"
      ],
      "execution_count": null,
      "outputs": [
        {
          "output_type": "execute_result",
          "data": {
            "text/plain": [
              "id                    0\n",
              "user_name             0\n",
              "user_location       520\n",
              "user_description    124\n",
              "user_created          0\n",
              "user_followers        0\n",
              "user_friends          0\n",
              "user_favourites       0\n",
              "user_verified         0\n",
              "date                  0\n",
              "text                  0\n",
              "hashtags            634\n",
              "source                1\n",
              "retweets              0\n",
              "favorites             0\n",
              "is_retweet            0\n",
              "dtype: int64"
            ]
          },
          "metadata": {},
          "execution_count": 7
        }
      ]
    },
    {
      "cell_type": "code",
      "metadata": {
        "colab": {
          "base_uri": "https://localhost:8080/"
        },
        "id": "Lh5-UtsK24qD",
        "outputId": "fe4e2b6a-2523-43aa-e20f-5f78c16489d0"
      },
      "source": [
        "null_value_columns = []\n",
        "for i in data.columns:\n",
        "  if data[i].isnull().any() == True:\n",
        "    null_value_columns.append(i)\n",
        "null_value_columns"
      ],
      "execution_count": null,
      "outputs": [
        {
          "output_type": "execute_result",
          "data": {
            "text/plain": [
              "['user_location', 'user_description', 'hashtags', 'source']"
            ]
          },
          "metadata": {},
          "execution_count": 8
        }
      ]
    },
    {
      "cell_type": "code",
      "metadata": {
        "colab": {
          "base_uri": "https://localhost:8080/"
        },
        "id": "1oaD4Cc33M6l",
        "outputId": "288e1daf-d9d4-4e9d-ec74-4b3de72b4b26"
      },
      "source": [
        "np.where(data['user_location'].isnull())"
      ],
      "execution_count": null,
      "outputs": [
        {
          "output_type": "execute_result",
          "data": {
            "text/plain": [
              "(array([   4,    7,    8,   11,   13,   14,   20,   24,   36,   42,   46,\n",
              "          47,   50,   61,   66,   70,   74,   97,   98,  106,  107,  108,\n",
              "         112,  114,  121,  123,  132,  137,  141,  144,  148,  153,  158,\n",
              "         161,  166,  167,  169,  170,  193,  194,  195,  197,  209,  210,\n",
              "         213,  219,  224,  228,  230,  236,  237,  241,  247,  268,  272,\n",
              "         277,  279,  281,  287,  294,  296,  306,  312,  313,  320,  326,\n",
              "         327,  328,  329,  333,  345,  354,  355,  359,  360,  365,  369,\n",
              "         373,  375,  378,  379,  380,  381,  385,  386,  389,  392,  395,\n",
              "         399,  401,  405,  406,  430,  440,  442,  443,  450,  452,  454,\n",
              "         458,  484,  489,  494,  496,  499,  500,  504,  507,  508,  512,\n",
              "         514,  547,  557,  564,  566,  567,  580,  581,  590,  591,  595,\n",
              "         599,  605,  606,  609,  613,  624,  626,  627,  629,  630,  631,\n",
              "         636,  642,  644,  645,  647,  649,  655,  672,  673,  683,  697,\n",
              "         702,  703,  711,  719,  724,  737,  746,  749,  763,  764,  765,\n",
              "         766,  767,  768,  769,  770,  771,  772,  773,  774,  775,  777,\n",
              "         778,  779,  780,  781,  784,  787,  790,  804,  806,  807,  816,\n",
              "         817,  818,  819,  820,  821,  828,  832,  833,  837,  841,  842,\n",
              "         843,  850,  853,  859,  860,  863,  874,  880,  886,  893,  902,\n",
              "         903,  904,  905,  906,  907,  913,  915,  916,  928,  943,  945,\n",
              "         946,  955,  958,  966,  972,  975,  979,  987,  996, 1001, 1010,\n",
              "        1011, 1019, 1020, 1021, 1028, 1030, 1039, 1044, 1049, 1058, 1059,\n",
              "        1060, 1062, 1064, 1069, 1074, 1076, 1079, 1080, 1081, 1082, 1084,\n",
              "        1086, 1087, 1088, 1091, 1092, 1094, 1103, 1113, 1124, 1127, 1139,\n",
              "        1164, 1166, 1167, 1168, 1169, 1170, 1171, 1175, 1176, 1177, 1181,\n",
              "        1193, 1195, 1198, 1200, 1204, 1209, 1213, 1214, 1217, 1221, 1227,\n",
              "        1243, 1253, 1256, 1266, 1277, 1282, 1285, 1289, 1296, 1299, 1318,\n",
              "        1319, 1322, 1330, 1344, 1346, 1356, 1361, 1404, 1412, 1414, 1418,\n",
              "        1421, 1423, 1427, 1435, 1441, 1444, 1445, 1449, 1453, 1461, 1462,\n",
              "        1472, 1478, 1482, 1483, 1484, 1486, 1487, 1488, 1490, 1491, 1503,\n",
              "        1504, 1509, 1518, 1533, 1537, 1541, 1542, 1546, 1549, 1554, 1558,\n",
              "        1560, 1562, 1575, 1578, 1579, 1582, 1587, 1588, 1592, 1596, 1599,\n",
              "        1603, 1605, 1606, 1607, 1609, 1611, 1621, 1627, 1628, 1632, 1638,\n",
              "        1642, 1643, 1646, 1648, 1656, 1659, 1663, 1667, 1671, 1675, 1676,\n",
              "        1681, 1682, 1684, 1690, 1693, 1695, 1705, 1713, 1717, 1718, 1720,\n",
              "        1723, 1729, 1734, 1736, 1739, 1741, 1758, 1762, 1770, 1775, 1779,\n",
              "        1780, 1781, 1782, 1790, 1800, 1801, 1805, 1825, 1826, 1831, 1835,\n",
              "        1839, 1844, 1847, 1848, 1853, 1856, 1859, 1861, 1867, 1872, 1883,\n",
              "        1890, 1891, 1892, 1898, 1907, 1915, 1917, 1923, 1924, 1935, 1942,\n",
              "        1956, 1961, 1963, 1972, 1981, 1982, 1984, 1987, 1996, 2005, 2010,\n",
              "        2014, 2022, 2030, 2037, 2044, 2050, 2054, 2059, 2060, 2073, 2074,\n",
              "        2075, 2076, 2080, 2084, 2088, 2090, 2095, 2104, 2119, 2136, 2142,\n",
              "        2150, 2153, 2156, 2158, 2193, 2198, 2199, 2210, 2221, 2225, 2226,\n",
              "        2239, 2240, 2246, 2249, 2253, 2262, 2265, 2274, 2280, 2289, 2296,\n",
              "        2301, 2303, 2307, 2310, 2314, 2316, 2318, 2322, 2349, 2350, 2353,\n",
              "        2354, 2367, 2368, 2374, 2376, 2377, 2379, 2380, 2384, 2386, 2387,\n",
              "        2388, 2393, 2395, 2399, 2400, 2414, 2415, 2420, 2433, 2434, 2453,\n",
              "        2454, 2455, 2457, 2458, 2459, 2470, 2472, 2486, 2487, 2494, 2495,\n",
              "        2505, 2506, 2514]),)"
            ]
          },
          "metadata": {},
          "execution_count": 9
        }
      ]
    },
    {
      "cell_type": "code",
      "metadata": {
        "id": "dDIzgIdi3PpS"
      },
      "source": [
        "data['user_location'] = data[\"user_location\"].fillna(\"Location Unavialable\")\n",
        "data['user_description'] = data[\"user_description\"].fillna(\"User Description Unavialable\")\n",
        "data['hashtags'] = data[\"hashtags\"].fillna(\"Hashtag Unavialable\")\n",
        "data['source'] = data[\"source\"].fillna(\"Source Unavialable\")"
      ],
      "execution_count": null,
      "outputs": []
    },
    {
      "cell_type": "code",
      "metadata": {
        "colab": {
          "base_uri": "https://localhost:8080/"
        },
        "id": "4x5XZjPQ3T4l",
        "outputId": "a7c5abbc-5dd5-420f-afa4-c3dd198f1fd3"
      },
      "source": [
        "data.isnull().sum()"
      ],
      "execution_count": null,
      "outputs": [
        {
          "output_type": "execute_result",
          "data": {
            "text/plain": [
              "id                  0\n",
              "user_name           0\n",
              "user_location       0\n",
              "user_description    0\n",
              "user_created        0\n",
              "user_followers      0\n",
              "user_friends        0\n",
              "user_favourites     0\n",
              "user_verified       0\n",
              "date                0\n",
              "text                0\n",
              "hashtags            0\n",
              "source              0\n",
              "retweets            0\n",
              "favorites           0\n",
              "is_retweet          0\n",
              "dtype: int64"
            ]
          },
          "metadata": {},
          "execution_count": 12
        }
      ]
    },
    {
      "cell_type": "code",
      "metadata": {
        "colab": {
          "base_uri": "https://localhost:8080/"
        },
        "id": "ZyXVCv_x3bMu",
        "outputId": "ec3b831b-5ce2-46b9-eb42-7bea3afa4863"
      },
      "source": [
        "for i in columns:\n",
        "  print(\"number of unique values in\",i,\"is = \",len(np.unique(data[i])))"
      ],
      "execution_count": null,
      "outputs": [
        {
          "output_type": "stream",
          "name": "stdout",
          "text": [
            "number of unique values in id is =  2518\n",
            "number of unique values in user_name is =  1704\n",
            "number of unique values in user_location is =  876\n",
            "number of unique values in user_description is =  1614\n",
            "number of unique values in user_created is =  1703\n",
            "number of unique values in user_followers is =  1307\n",
            "number of unique values in user_friends is =  1157\n",
            "number of unique values in user_favourites is =  1616\n",
            "number of unique values in user_verified is =  2\n",
            "number of unique values in date is =  2516\n",
            "number of unique values in text is =  2518\n",
            "number of unique values in hashtags is =  1192\n",
            "number of unique values in source is =  27\n",
            "number of unique values in retweets is =  42\n",
            "number of unique values in favorites is =  115\n",
            "number of unique values in is_retweet is =  1\n"
          ]
        }
      ]
    },
    {
      "cell_type": "code",
      "metadata": {
        "id": "aKX8TkSR3hU8"
      },
      "source": [
        "# Label encoding the data set\n",
        "from sklearn.preprocessing import LabelEncoder\n",
        "data['user_name'] = LabelEncoder().fit_transform(data['user_name'])\n",
        "data['user_location'] = LabelEncoder().fit_transform(data[\"user_location\"])\n",
        "data['user_description'] = LabelEncoder().fit_transform(data[\"user_description\"])\n",
        "data['hashtags'] = LabelEncoder().fit_transform(data[\"hashtags\"])\n",
        "data['source'] = LabelEncoder().fit_transform(data[\"source\"])"
      ],
      "execution_count": null,
      "outputs": []
    },
    {
      "cell_type": "code",
      "metadata": {
        "colab": {
          "base_uri": "https://localhost:8080/",
          "height": 328
        },
        "id": "q_YfTc6I3viS",
        "outputId": "aeaa6840-8488-4f16-e2b1-4eebf979cba6"
      },
      "source": [
        "data.drop ('date', axis = 1, inplace = True)"
      ],
      "execution_count": null,
      "outputs": [
        {
          "output_type": "error",
          "ename": "KeyError",
          "evalue": "ignored",
          "traceback": [
            "\u001b[0;31m---------------------------------------------------------------------------\u001b[0m",
            "\u001b[0;31mKeyError\u001b[0m                                  Traceback (most recent call last)",
            "\u001b[0;32m<ipython-input-17-81edf84e0022>\u001b[0m in \u001b[0;36m<module>\u001b[0;34m()\u001b[0m\n\u001b[0;32m----> 1\u001b[0;31m \u001b[0mdata\u001b[0m\u001b[0;34m.\u001b[0m\u001b[0mdrop\u001b[0m \u001b[0;34m(\u001b[0m\u001b[0;34m'date'\u001b[0m\u001b[0;34m,\u001b[0m \u001b[0maxis\u001b[0m \u001b[0;34m=\u001b[0m \u001b[0;36m1\u001b[0m\u001b[0;34m,\u001b[0m \u001b[0minplace\u001b[0m \u001b[0;34m=\u001b[0m \u001b[0;32mTrue\u001b[0m\u001b[0;34m)\u001b[0m\u001b[0;34m\u001b[0m\u001b[0;34m\u001b[0m\u001b[0m\n\u001b[0m\u001b[1;32m      2\u001b[0m \u001b[0mdata\u001b[0m\u001b[0;34m.\u001b[0m\u001b[0mdrop\u001b[0m\u001b[0;34m(\u001b[0m\u001b[0;34m'user_created'\u001b[0m\u001b[0;34m,\u001b[0m\u001b[0maxis\u001b[0m \u001b[0;34m=\u001b[0m \u001b[0;36m1\u001b[0m\u001b[0;34m,\u001b[0m\u001b[0minplace\u001b[0m\u001b[0;34m=\u001b[0m\u001b[0;32mTrue\u001b[0m\u001b[0;34m)\u001b[0m\u001b[0;34m\u001b[0m\u001b[0;34m\u001b[0m\u001b[0m\n",
            "\u001b[0;32m/usr/local/lib/python3.7/dist-packages/pandas/core/frame.py\u001b[0m in \u001b[0;36mdrop\u001b[0;34m(self, labels, axis, index, columns, level, inplace, errors)\u001b[0m\n\u001b[1;32m   4172\u001b[0m             \u001b[0mlevel\u001b[0m\u001b[0;34m=\u001b[0m\u001b[0mlevel\u001b[0m\u001b[0;34m,\u001b[0m\u001b[0;34m\u001b[0m\u001b[0;34m\u001b[0m\u001b[0m\n\u001b[1;32m   4173\u001b[0m             \u001b[0minplace\u001b[0m\u001b[0;34m=\u001b[0m\u001b[0minplace\u001b[0m\u001b[0;34m,\u001b[0m\u001b[0;34m\u001b[0m\u001b[0;34m\u001b[0m\u001b[0m\n\u001b[0;32m-> 4174\u001b[0;31m             \u001b[0merrors\u001b[0m\u001b[0;34m=\u001b[0m\u001b[0merrors\u001b[0m\u001b[0;34m,\u001b[0m\u001b[0;34m\u001b[0m\u001b[0;34m\u001b[0m\u001b[0m\n\u001b[0m\u001b[1;32m   4175\u001b[0m         )\n\u001b[1;32m   4176\u001b[0m \u001b[0;34m\u001b[0m\u001b[0m\n",
            "\u001b[0;32m/usr/local/lib/python3.7/dist-packages/pandas/core/generic.py\u001b[0m in \u001b[0;36mdrop\u001b[0;34m(self, labels, axis, index, columns, level, inplace, errors)\u001b[0m\n\u001b[1;32m   3887\u001b[0m         \u001b[0;32mfor\u001b[0m \u001b[0maxis\u001b[0m\u001b[0;34m,\u001b[0m \u001b[0mlabels\u001b[0m \u001b[0;32min\u001b[0m \u001b[0maxes\u001b[0m\u001b[0;34m.\u001b[0m\u001b[0mitems\u001b[0m\u001b[0;34m(\u001b[0m\u001b[0;34m)\u001b[0m\u001b[0;34m:\u001b[0m\u001b[0;34m\u001b[0m\u001b[0;34m\u001b[0m\u001b[0m\n\u001b[1;32m   3888\u001b[0m             \u001b[0;32mif\u001b[0m \u001b[0mlabels\u001b[0m \u001b[0;32mis\u001b[0m \u001b[0;32mnot\u001b[0m \u001b[0;32mNone\u001b[0m\u001b[0;34m:\u001b[0m\u001b[0;34m\u001b[0m\u001b[0;34m\u001b[0m\u001b[0m\n\u001b[0;32m-> 3889\u001b[0;31m                 \u001b[0mobj\u001b[0m \u001b[0;34m=\u001b[0m \u001b[0mobj\u001b[0m\u001b[0;34m.\u001b[0m\u001b[0m_drop_axis\u001b[0m\u001b[0;34m(\u001b[0m\u001b[0mlabels\u001b[0m\u001b[0;34m,\u001b[0m \u001b[0maxis\u001b[0m\u001b[0;34m,\u001b[0m \u001b[0mlevel\u001b[0m\u001b[0;34m=\u001b[0m\u001b[0mlevel\u001b[0m\u001b[0;34m,\u001b[0m \u001b[0merrors\u001b[0m\u001b[0;34m=\u001b[0m\u001b[0merrors\u001b[0m\u001b[0;34m)\u001b[0m\u001b[0;34m\u001b[0m\u001b[0;34m\u001b[0m\u001b[0m\n\u001b[0m\u001b[1;32m   3890\u001b[0m \u001b[0;34m\u001b[0m\u001b[0m\n\u001b[1;32m   3891\u001b[0m         \u001b[0;32mif\u001b[0m \u001b[0minplace\u001b[0m\u001b[0;34m:\u001b[0m\u001b[0;34m\u001b[0m\u001b[0;34m\u001b[0m\u001b[0m\n",
            "\u001b[0;32m/usr/local/lib/python3.7/dist-packages/pandas/core/generic.py\u001b[0m in \u001b[0;36m_drop_axis\u001b[0;34m(self, labels, axis, level, errors)\u001b[0m\n\u001b[1;32m   3921\u001b[0m                 \u001b[0mnew_axis\u001b[0m \u001b[0;34m=\u001b[0m \u001b[0maxis\u001b[0m\u001b[0;34m.\u001b[0m\u001b[0mdrop\u001b[0m\u001b[0;34m(\u001b[0m\u001b[0mlabels\u001b[0m\u001b[0;34m,\u001b[0m \u001b[0mlevel\u001b[0m\u001b[0;34m=\u001b[0m\u001b[0mlevel\u001b[0m\u001b[0;34m,\u001b[0m \u001b[0merrors\u001b[0m\u001b[0;34m=\u001b[0m\u001b[0merrors\u001b[0m\u001b[0;34m)\u001b[0m\u001b[0;34m\u001b[0m\u001b[0;34m\u001b[0m\u001b[0m\n\u001b[1;32m   3922\u001b[0m             \u001b[0;32melse\u001b[0m\u001b[0;34m:\u001b[0m\u001b[0;34m\u001b[0m\u001b[0;34m\u001b[0m\u001b[0m\n\u001b[0;32m-> 3923\u001b[0;31m                 \u001b[0mnew_axis\u001b[0m \u001b[0;34m=\u001b[0m \u001b[0maxis\u001b[0m\u001b[0;34m.\u001b[0m\u001b[0mdrop\u001b[0m\u001b[0;34m(\u001b[0m\u001b[0mlabels\u001b[0m\u001b[0;34m,\u001b[0m \u001b[0merrors\u001b[0m\u001b[0;34m=\u001b[0m\u001b[0merrors\u001b[0m\u001b[0;34m)\u001b[0m\u001b[0;34m\u001b[0m\u001b[0;34m\u001b[0m\u001b[0m\n\u001b[0m\u001b[1;32m   3924\u001b[0m             \u001b[0mresult\u001b[0m \u001b[0;34m=\u001b[0m \u001b[0mself\u001b[0m\u001b[0;34m.\u001b[0m\u001b[0mreindex\u001b[0m\u001b[0;34m(\u001b[0m\u001b[0;34m**\u001b[0m\u001b[0;34m{\u001b[0m\u001b[0maxis_name\u001b[0m\u001b[0;34m:\u001b[0m \u001b[0mnew_axis\u001b[0m\u001b[0;34m}\u001b[0m\u001b[0;34m)\u001b[0m\u001b[0;34m\u001b[0m\u001b[0;34m\u001b[0m\u001b[0m\n\u001b[1;32m   3925\u001b[0m \u001b[0;34m\u001b[0m\u001b[0m\n",
            "\u001b[0;32m/usr/local/lib/python3.7/dist-packages/pandas/core/indexes/base.py\u001b[0m in \u001b[0;36mdrop\u001b[0;34m(self, labels, errors)\u001b[0m\n\u001b[1;32m   5285\u001b[0m         \u001b[0;32mif\u001b[0m \u001b[0mmask\u001b[0m\u001b[0;34m.\u001b[0m\u001b[0many\u001b[0m\u001b[0;34m(\u001b[0m\u001b[0;34m)\u001b[0m\u001b[0;34m:\u001b[0m\u001b[0;34m\u001b[0m\u001b[0;34m\u001b[0m\u001b[0m\n\u001b[1;32m   5286\u001b[0m             \u001b[0;32mif\u001b[0m \u001b[0merrors\u001b[0m \u001b[0;34m!=\u001b[0m \u001b[0;34m\"ignore\"\u001b[0m\u001b[0;34m:\u001b[0m\u001b[0;34m\u001b[0m\u001b[0;34m\u001b[0m\u001b[0m\n\u001b[0;32m-> 5287\u001b[0;31m                 \u001b[0;32mraise\u001b[0m \u001b[0mKeyError\u001b[0m\u001b[0;34m(\u001b[0m\u001b[0;34mf\"{labels[mask]} not found in axis\"\u001b[0m\u001b[0;34m)\u001b[0m\u001b[0;34m\u001b[0m\u001b[0;34m\u001b[0m\u001b[0m\n\u001b[0m\u001b[1;32m   5288\u001b[0m             \u001b[0mindexer\u001b[0m \u001b[0;34m=\u001b[0m \u001b[0mindexer\u001b[0m\u001b[0;34m[\u001b[0m\u001b[0;34m~\u001b[0m\u001b[0mmask\u001b[0m\u001b[0;34m]\u001b[0m\u001b[0;34m\u001b[0m\u001b[0;34m\u001b[0m\u001b[0m\n\u001b[1;32m   5289\u001b[0m         \u001b[0;32mreturn\u001b[0m \u001b[0mself\u001b[0m\u001b[0;34m.\u001b[0m\u001b[0mdelete\u001b[0m\u001b[0;34m(\u001b[0m\u001b[0mindexer\u001b[0m\u001b[0;34m)\u001b[0m\u001b[0;34m\u001b[0m\u001b[0;34m\u001b[0m\u001b[0m\n",
            "\u001b[0;31mKeyError\u001b[0m: \"['date'] not found in axis\""
          ]
        }
      ]
    },
    {
      "cell_type": "code",
      "metadata": {
        "id": "jmrpwDN930sB"
      },
      "source": [
        "data.drop('user_created',axis = 1,inplace=True)"
      ],
      "execution_count": null,
      "outputs": []
    },
    {
      "cell_type": "code",
      "metadata": {
        "id": "g-Ox8ip54WHV"
      },
      "source": [
        "data.drop('is_retweet',axis = 1,inplace=True)"
      ],
      "execution_count": null,
      "outputs": []
    },
    {
      "cell_type": "code",
      "metadata": {
        "id": "WNUv_XH74aQ0"
      },
      "source": [
        "data.drop('id',axis = 1,inplace=True)"
      ],
      "execution_count": null,
      "outputs": []
    },
    {
      "cell_type": "code",
      "metadata": {
        "colab": {
          "base_uri": "https://localhost:8080/",
          "height": 372
        },
        "id": "o2GriKyC38yQ",
        "outputId": "9cf49fab-963c-4fa8-ac20-63692159c59d"
      },
      "source": [
        "data.head(2)"
      ],
      "execution_count": null,
      "outputs": [
        {
          "output_type": "execute_result",
          "data": {
            "text/html": [
              "<div>\n",
              "<style scoped>\n",
              "    .dataframe tbody tr th:only-of-type {\n",
              "        vertical-align: middle;\n",
              "    }\n",
              "\n",
              "    .dataframe tbody tr th {\n",
              "        vertical-align: top;\n",
              "    }\n",
              "\n",
              "    .dataframe thead th {\n",
              "        text-align: right;\n",
              "    }\n",
              "</style>\n",
              "<table border=\"1\" class=\"dataframe\">\n",
              "  <thead>\n",
              "    <tr style=\"text-align: right;\">\n",
              "      <th></th>\n",
              "      <th>user_name</th>\n",
              "      <th>user_location</th>\n",
              "      <th>user_description</th>\n",
              "      <th>user_followers</th>\n",
              "      <th>user_friends</th>\n",
              "      <th>user_favourites</th>\n",
              "      <th>user_verified</th>\n",
              "      <th>text</th>\n",
              "      <th>hashtags</th>\n",
              "      <th>source</th>\n",
              "      <th>retweets</th>\n",
              "      <th>favorites</th>\n",
              "    </tr>\n",
              "  </thead>\n",
              "  <tbody>\n",
              "    <tr>\n",
              "      <th>0</th>\n",
              "      <td>1139</td>\n",
              "      <td>386</td>\n",
              "      <td>140</td>\n",
              "      <td>405</td>\n",
              "      <td>1692</td>\n",
              "      <td>3247</td>\n",
              "      <td>0</td>\n",
              "      <td>Same folks said daikon paste could treat a cyt...</td>\n",
              "      <td>754</td>\n",
              "      <td>23</td>\n",
              "      <td>0</td>\n",
              "      <td>0</td>\n",
              "    </tr>\n",
              "    <tr>\n",
              "      <th>1</th>\n",
              "      <td>63</td>\n",
              "      <td>647</td>\n",
              "      <td>867</td>\n",
              "      <td>834</td>\n",
              "      <td>666</td>\n",
              "      <td>178</td>\n",
              "      <td>0</td>\n",
              "      <td>While the world has been on the wrong side of ...</td>\n",
              "      <td>0</td>\n",
              "      <td>22</td>\n",
              "      <td>1</td>\n",
              "      <td>1</td>\n",
              "    </tr>\n",
              "  </tbody>\n",
              "</table>\n",
              "</div>"
            ],
            "text/plain": [
              "   user_name  user_location  user_description  ...  source  retweets  favorites\n",
              "0       1139            386               140  ...      23         0          0\n",
              "1         63            647               867  ...      22         1          1\n",
              "\n",
              "[2 rows x 12 columns]"
            ]
          },
          "metadata": {},
          "execution_count": 23
        }
      ]
    },
    {
      "cell_type": "code",
      "metadata": {
        "id": "gtgbHqTk3-O8"
      },
      "source": [
        "data['user_verified'].replace(False,0,inplace=True)\n",
        "data['user_verified'].replace(True,1,inplace=True)\n",
        "data['user_verified'] =data['user_verified'].astype(int)"
      ],
      "execution_count": null,
      "outputs": []
    },
    {
      "cell_type": "code",
      "metadata": {
        "colab": {
          "base_uri": "https://localhost:8080/",
          "height": 295
        },
        "id": "WQ_Jywq_4E4a",
        "outputId": "f3c5f28e-00e2-408b-abef-e20766eaf8aa"
      },
      "source": [
        "sns.countplot(x='user_name',hue='user_verified',data=data)"
      ],
      "execution_count": null,
      "outputs": [
        {
          "output_type": "execute_result",
          "data": {
            "text/plain": [
              "<matplotlib.axes._subplots.AxesSubplot at 0x7fa723f3b5d0>"
            ]
          },
          "metadata": {},
          "execution_count": 24
        },
        {
          "output_type": "display_data",
          "data": {
            "image/png": "[encoded data removed]",
            "text/plain": [
              "<Figure size 432x288 with 1 Axes>"
            ]
          },
          "metadata": {
            "needs_background": "light"
          }
        }
      ]
    },
    {
      "cell_type": "code",
      "metadata": {
        "colab": {
          "base_uri": "https://localhost:8080/"
        },
        "id": "lqlaa8VO4gVq",
        "outputId": "a98663a1-ae9e-419e-bcd7-7109488b6d58"
      },
      "source": [
        "take = []\n",
        "drop = []\n",
        "for j in data.columns:\n",
        "  if j == 'text' or j == 'user_verified':\n",
        "    take.append(j)\n",
        "  else:\n",
        "    drop.append(j)\n",
        "\n",
        "drop"
      ],
      "execution_count": null,
      "outputs": [
        {
          "output_type": "execute_result",
          "data": {
            "text/plain": [
              "['user_name',\n",
              " 'user_location',\n",
              " 'user_description',\n",
              " 'user_followers',\n",
              " 'user_friends',\n",
              " 'user_favourites',\n",
              " 'hashtags',\n",
              " 'source',\n",
              " 'retweets',\n",
              " 'favorites']"
            ]
          },
          "metadata": {},
          "execution_count": 25
        }
      ]
    },
    {
      "cell_type": "code",
      "metadata": {
        "id": "Z5e7XXg94xDT"
      },
      "source": [
        "data.drop(drop,axis=1,inplace=True)"
      ],
      "execution_count": null,
      "outputs": []
    },
    {
      "cell_type": "code",
      "metadata": {
        "id": "SkaVP36N40Or"
      },
      "source": [
        "x = data['text']\n",
        "y = data['user_verified']"
      ],
      "execution_count": null,
      "outputs": []
    },
    {
      "cell_type": "code",
      "metadata": {
        "colab": {
          "base_uri": "https://localhost:8080/"
        },
        "id": "hqxax66x42WS",
        "outputId": "f9992fcb-b53d-40b4-b9c3-6bc068b1ff05"
      },
      "source": [
        "verified_user = []\n",
        "not_verified_user = []\n",
        "for i in data['user_verified']:\n",
        "  if i == 1:\n",
        "    verified_user.append(i)\n",
        "  else:\n",
        "    not_verified_user.append(i)\n",
        "\n",
        "print(\"percentage of verified user = \",((len(verified_user)/len(data['user_verified']))*100))\n",
        "\n",
        "print(\"percentage of not verified user = \",((len(not_verified_user)/len(data['user_verified']))*100))"
      ],
      "execution_count": null,
      "outputs": [
        {
          "output_type": "stream",
          "name": "stdout",
          "text": [
            "percentage of verified user =  14.138204924543288\n",
            "percentage of not verified user =  85.86179507545671\n"
          ]
        }
      ]
    },
    {
      "cell_type": "markdown",
      "metadata": {
        "id": "gUAX5Icf4_HV"
      },
      "source": [
        "## TEXT PREPROCESSING"
      ]
    },
    {
      "cell_type": "code",
      "metadata": {
        "id": "uYUNUSNv47zj"
      },
      "source": [
        "from tensorflow import keras\n",
        "from keras.preprocessing.text import Tokenizer\n",
        "from keras.preprocessing.sequence import pad_sequences"
      ],
      "execution_count": null,
      "outputs": []
    },
    {
      "cell_type": "code",
      "metadata": {
        "id": "8rob6NBn5Qji"
      },
      "source": [
        "tokenizer = Tokenizer(10000,lower=True)\n",
        "tokenizer.fit_on_texts(x)\n",
        "\n",
        "sequence = tokenizer.texts_to_sequences(x)\n",
        "final_x = pad_sequences(sequence,maxlen=200,padding='pre')\n",
        "final_y = np.array(y)"
      ],
      "execution_count": null,
      "outputs": []
    },
    {
      "cell_type": "markdown",
      "metadata": {
        "id": "rg-HjuX65aVP"
      },
      "source": [
        "## MODEL BUILDING"
      ]
    },
    {
      "cell_type": "code",
      "metadata": {
        "id": "lxU-8cxa5Zh9"
      },
      "source": [
        "from keras.models import Sequential\n",
        "from keras.layers import Bidirectional,LSTM,Dense,Embedding"
      ],
      "execution_count": null,
      "outputs": []
    },
    {
      "cell_type": "code",
      "metadata": {
        "colab": {
          "base_uri": "https://localhost:8080/"
        },
        "id": "6OaiN42o5Uxx",
        "outputId": "8d3cf8d8-01fa-4bd1-e5d8-a7a519693b95"
      },
      "source": [
        "model = Sequential()\n",
        "model.add(\n",
        "    Embedding(\n",
        "        input_dim=10000,\n",
        "        output_dim=120,\n",
        "        input_length=200,\n",
        "    ),)\n",
        "model.add(\n",
        "    Bidirectional(LSTM(64, return_sequences=True))\n",
        ")\n",
        "model.add(Bidirectional(LSTM(32)))\n",
        "model.add(Dense(1))\n",
        "\n",
        "model.summary()"
      ],
      "execution_count": null,
      "outputs": [
        {
          "output_type": "stream",
          "name": "stdout",
          "text": [
            "Model: \"sequential\"\n",
            "_________________________________________________________________\n",
            "Layer (type)                 Output Shape              Param #   \n",
            "=================================================================\n",
            "embedding (Embedding)        (None, 200, 120)          1200000   \n",
            "_________________________________________________________________\n",
            "bidirectional (Bidirectional (None, 200, 128)          94720     \n",
            "_________________________________________________________________\n",
            "bidirectional_1 (Bidirection (None, 64)                41216     \n",
            "_________________________________________________________________\n",
            "dense (Dense)                (None, 1)                 65        \n",
            "=================================================================\n",
            "Total params: 1,336,001\n",
            "Trainable params: 1,336,001\n",
            "Non-trainable params: 0\n",
            "_________________________________________________________________\n"
          ]
        }
      ]
    },
    {
      "cell_type": "code",
      "metadata": {
        "id": "QTKtp2wJ5ptR"
      },
      "source": [
        "model.compile(loss='binary_crossentropy',optimizer='adam',metrics=['accuracy'])"
      ],
      "execution_count": null,
      "outputs": []
    },
    {
      "cell_type": "code",
      "metadata": {
        "colab": {
          "base_uri": "https://localhost:8080/"
        },
        "id": "7ZESu_X15tjH",
        "outputId": "c379fbd2-623c-417e-f372-3be7677e4264"
      },
      "source": [
        "pred = model.fit(final_x,final_y,epochs=5,batch_size=32)"
      ],
      "execution_count": null,
      "outputs": [
        {
          "output_type": "stream",
          "name": "stdout",
          "text": [
            "Epoch 1/5\n",
            "79/79 [==============================] - 35s 440ms/step - loss: 2.1808 - accuracy: 0.8586\n",
            "Epoch 2/5\n",
            "79/79 [==============================] - 35s 439ms/step - loss: 2.1808 - accuracy: 0.8586\n",
            "Epoch 3/5\n",
            "79/79 [==============================] - 35s 439ms/step - loss: 2.1808 - accuracy: 0.8586\n",
            "Epoch 4/5\n",
            "79/79 [==============================] - 35s 444ms/step - loss: 2.1808 - accuracy: 0.8586\n",
            "Epoch 5/5\n",
            "79/79 [==============================] - 35s 447ms/step - loss: 2.1808 - accuracy: 0.8586\n"
          ]
        }
      ]
    },
    {
      "cell_type": "code",
      "metadata": {
        "id": "MnAdLyBV5vkx"
      },
      "source": [
        ""
      ],
      "execution_count": null,
      "outputs": []
    }
  ]
}